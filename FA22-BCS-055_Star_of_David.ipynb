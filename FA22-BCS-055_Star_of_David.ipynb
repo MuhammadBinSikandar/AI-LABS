{
 "cells": [
  {
   "cell_type": "code",
   "execution_count": 4,
   "metadata": {},
   "outputs": [
    {
     "name": "stdout",
     "output_type": "stream",
     "text": [
      "       *       \n",
      "      * *      \n",
      "***************\n",
      " *  *     *  * \n",
      "  **       **  \n",
      "  **       **  \n",
      " *  *     *  * \n",
      "***************\n",
      "      * *      \n",
      "       *       \n"
     ]
    }
   ],
   "source": [
    "rows = int(input(\"Enter the number of rows for the star (Greater than 5) :\"))\n",
    "if rows < 5:\n",
    "    print(\"Invalid Rows, Enter the row number greater than 5\")\n",
    "    rows = int(input(\"Enter the number of rows for the star (Greater than 5) :\"))\n",
    "cols= rows+rows-5\n",
    "mid = cols//2\n",
    "for i in range(rows):\n",
    "    for j in range (cols):\n",
    "        if i==2 or i==(rows-3) or i+j==mid or j-i==mid or i+j==(cols+1) or i-j ==2:\n",
    "            print(\"*\", end=\"\")\n",
    "        else:\n",
    "            print(\" \",end=\"\")\n",
    "    print()\n",
    "\n"
   ]
  },
  {
   "cell_type": "code",
   "execution_count": 6,
   "metadata": {},
   "outputs": [
    {
     "name": "stdout",
     "output_type": "stream",
     "text": [
      "      *      \n",
      "     * *     \n",
      "*************\n",
      " * *     * * \n",
      "  *       *  \n",
      " * *     * * \n",
      "*************\n",
      "     * *     \n",
      "      *      \n"
     ]
    }
   ],
   "source": [
    "col = int(input(\"Enter number of columns: \"))\n",
    "if col < 5:\n",
    "    print(\"Columns cannot be less than 5. Setting default value 5\")\n",
    "    col = 5\n",
    "if col%2 == 0 :\n",
    "    print(\"Columns must be an odd number. Subtracting one to make columns odd.\")\n",
    "    col-=1\n",
    "row = (col+5)//2\n",
    "\n",
    "mid = col//2\n",
    "\n",
    "for i in range (row):\n",
    "    for j in range (col):\n",
    "        if i==2 or i == (row-3) or i-j==2 or i+j == mid or j-i == mid or i+j==(col+1):\n",
    "            print(\"*\", end = \"\")\n",
    "        else:\n",
    "            print(\" \", end = \"\")\n",
    "    print()"
   ]
  }
 ],
 "metadata": {
  "kernelspec": {
   "display_name": "Python 3",
   "language": "python",
   "name": "python3"
  },
  "language_info": {
   "codemirror_mode": {
    "name": "ipython",
    "version": 3
   },
   "file_extension": ".py",
   "mimetype": "text/x-python",
   "name": "python",
   "nbconvert_exporter": "python",
   "pygments_lexer": "ipython3",
   "version": "3.11.9"
  }
 },
 "nbformat": 4,
 "nbformat_minor": 2
}
