{
 "cells": [
  {
   "cell_type": "code",
   "execution_count": null,
   "metadata": {},
   "outputs": [],
   "source": [
    "# Activity 1\n",
    "n = input(\"Enter a number : \")\n",
    "if n%2==0:\n",
    "    print(\"The number is an even number\")\n",
    "else:\n",
    "    print(\"The number is an odd number\")"
   ]
  },
  {
   "cell_type": "code",
   "execution_count": null,
   "metadata": {},
   "outputs": [],
   "source": [
    "# Activity 2\n",
    "sum = 0\n",
    "number = int(input(\"Enter a number to proceed or press 0 to exit\"))\n",
    "while number!=0:\n",
    "    sum += number\n",
    "    number = int(input(\"Enter a number to proceed or press 0 to exit\"))\n",
    "print(\"The sum of the entered numbers is \",sum)\n",
    "\n"
   ]
  },
  {
   "cell_type": "code",
   "execution_count": null,
   "metadata": {},
   "outputs": [],
   "source": [
    "# Activity 3\n",
    "isPrime = True\n",
    "number = int(input(\"Enter a number: \"))\n",
    "check = 2\n",
    "while check < number:\n",
    "    if number%check==0:\n",
    "        isPrime = False\n",
    "        break\n",
    "    else:\n",
    "        check+=1\n",
    "\n",
    "print(\"The number is Prime\" if isPrime else \"The number is not Prime\")\n",
    "\n"
   ]
  },
  {
   "cell_type": "code",
   "execution_count": null,
   "metadata": {},
   "outputs": [],
   "source": [
    "# Activity 4\n",
    "sum = 0\n",
    "for i in range(4):\n",
    "    number = int(input(\"Enter a number : \"))\n",
    "    sum += number\n",
    "\n",
    "print(\"The sum is \", sum)\n"
   ]
  },
  {
   "cell_type": "code",
   "execution_count": null,
   "metadata": {},
   "outputs": [],
   "source": [
    "# Activity 5\n",
    "sum = 0\n",
    "loopCheck = 0\n",
    "while loopCheck <= 10:\n",
    "    sum+=loopCheck\n",
    "    loopCheck+=1\n",
    "\n",
    "print(\"The sum from 0 to 10 is :\"+sum)"
   ]
  },
  {
   "cell_type": "code",
   "execution_count": null,
   "metadata": {},
   "outputs": [],
   "source": [
    "# Activity 6\n",
    "name = input(\"Enter you name : \")\n",
    "print(\"Hello \", name)\n",
    "\n",
    "job = input(\"Enter your Job Title: \")\n",
    "print(f\"Oh I see your job is {job}\")\n",
    "\n",
    "question = int(input(\"When Pakistan got independent? \"))\n",
    "print(\"Congrats! you won $1 million\" if question==1947 else \"You just lost $1 million\")"
   ]
  },
  {
   "cell_type": "code",
   "execution_count": null,
   "metadata": {},
   "outputs": [],
   "source": [
    "# Activity 7\n",
    "import random\n",
    "MIN = 1 \n",
    "MAX = 9\n",
    "Secret = random.randint(MIN,MAX)\n",
    "Guess = None\n",
    "Another = None\n",
    "Try = 0\n",
    "loopCheck = True\n",
    "\n",
    "print (\"Alright lets Start\")\n",
    "\n",
    "while loopCheck:\n",
    "    Guess = input(\"Guess the secret number: \")\n",
    "    if int(Guess) < Secret:\n",
    "        print(\"Your guess is less than the secret number\")\n",
    "    elif int(Guess) > Secret:\n",
    "        print(\"You guess is higher than the secret number\")\n",
    "    elif Guess.lower() == \"exit\":\n",
    "        print(\"Better luck next time\")\n",
    "    elif int(Guess)==Secret:\n",
    "        print(\"Yes you guessed the right number %s\", str(Secret))\n",
    "        if Try < 2:\n",
    "            print(\"Impressive Good champ only %s tries\", Try)\n",
    "        elif Try >2 and Try <10:\n",
    "            print(\"Pretty good not bad %s\" , Try)\n",
    "        else:\n",
    "            print(\"Bad Tries %s\",Try)\n",
    "        loopCheck = False\n",
    "    Try+=1\n",
    "\n",
    "\n"
   ]
  },
  {
   "cell_type": "code",
   "execution_count": 4,
   "metadata": {},
   "outputs": [
    {
     "name": "stdout",
     "output_type": "stream",
     "text": [
      "The reverse is  4321\n"
     ]
    }
   ],
   "source": [
    "# Graded Task 1\n",
    "number = int(input(\"Enter a number : \"))\n",
    "reverse = 0\n",
    "while number > 10:\n",
    "    mod  = number % 10\n",
    "    number //= 10\n",
    "    reverse = (reverse + mod)*10\n",
    "    \n",
    "reverse += number\n",
    "print(\"The reverse is \", reverse )     "
   ]
  },
  {
   "cell_type": "code",
   "execution_count": null,
   "metadata": {},
   "outputs": [],
   "source": [
    "# Graded Task 2\n",
    "number = int(input(\"Enter a number or press 0 to exit: \"))\n",
    "oddSum = 0\n",
    "evenSum = 0\n",
    "while number!=0:\n",
    "    if number %2 ==0:\n",
    "        evenSum+=number\n",
    "    else:\n",
    "        oddSum+=number\n",
    "number = int(input(\"Enter a number or press 0 to exit: \"))\n",
    "    \n",
    "\n",
    "print(\"The even sum = \",evenSum)\n",
    "print(\"The odd sum = \", oddSum)\n",
    "    \n"
   ]
  },
  {
   "cell_type": "code",
   "execution_count": 9,
   "metadata": {},
   "outputs": [
    {
     "name": "stdout",
     "output_type": "stream",
     "text": [
      "Fibonacci sequence:\n",
      "0\n",
      "1\n",
      "1\n",
      "2\n",
      "3\n",
      "5\n"
     ]
    }
   ],
   "source": [
    "# Graded Task 3\n",
    "number = int(input(\"Enter the number of terms \"))\n",
    "n1, n2 = 0, 1\n",
    "count = 0\n",
    "if number <= 0:\n",
    "   print(\"Please enter a positive integer\")\n",
    "elif number == 1:\n",
    "   print(\"Fibonacci sequence upto\",number,\":\")\n",
    "   print(n1)\n",
    "else:\n",
    "   print(\"Fibonacci sequence:\")\n",
    "   while count < number:\n",
    "       print(n1)\n",
    "       sum = n1 + n2\n",
    "       n1 = n2\n",
    "       n2 = sum\n",
    "       count += 1\n"
   ]
  },
  {
   "cell_type": "code",
   "execution_count": null,
   "metadata": {},
   "outputs": [],
   "source": [
    "# Graded Task 4\n",
    "marks = int(input(\"Enter the makrs for the subject : \"))\n",
    "if marks > 91 and marks <100:\n",
    "    print('Grade A')\n",
    "elif marks > 81 and marks <90:\n",
    "    print('Grade B')\n",
    "elif marks > 71 and marks <80:\n",
    "    print(\"Grade C\")\n",
    "elif marks > 61 and marks <70:\n",
    "    print(\"Grade D\")\n",
    "elif marks > 50 and marks <60:\n",
    "    print(\"Grade E\")\n",
    "else:\n",
    "    print(\"Grade F\")\n"
   ]
  },
  {
   "cell_type": "code",
   "execution_count": 12,
   "metadata": {},
   "outputs": [
    {
     "name": "stdout",
     "output_type": "stream",
     "text": [
      "the factorial is  120\n"
     ]
    }
   ],
   "source": [
    "# Graded Task 5\n",
    "number = int(input(\"Enter the makrs for the subject : \"))\n",
    "if number > 0:\n",
    "    result = 1\n",
    "    for i in range(1, number + 1):\n",
    "        result *= i\n",
    "    print(f\"the factorial of {number} is \", result)\n",
    "else:\n",
    "    print(\"Negative Number\")\n"
   ]
  }
 ],
 "metadata": {
  "kernelspec": {
   "display_name": "Python 3",
   "language": "python",
   "name": "python3"
  },
  "language_info": {
   "codemirror_mode": {
    "name": "ipython",
    "version": 3
   },
   "file_extension": ".py",
   "mimetype": "text/x-python",
   "name": "python",
   "nbconvert_exporter": "python",
   "pygments_lexer": "ipython3",
   "version": "3.10.4"
  }
 },
 "nbformat": 4,
 "nbformat_minor": 2
}
