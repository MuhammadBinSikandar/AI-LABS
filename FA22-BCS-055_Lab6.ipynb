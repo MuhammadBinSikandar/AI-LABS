{
 "cells": [
  {
   "cell_type": "code",
   "execution_count": 6,
   "metadata": {},
   "outputs": [
    {
     "data": {
      "text/plain": [
       "['C', 'F', 'D', 'B']"
      ]
     },
     "execution_count": 6,
     "metadata": {},
     "output_type": "execute_result"
    }
   ],
   "source": [
    "import math\n",
    "class Node: \n",
    "    def __init__(self, state, parent, neighbours, cost):\n",
    "        self.state = state\n",
    "        self.parent = parent\n",
    "        self.neighbours = neighbours\n",
    "        self.cost = cost\n",
    "graph = {\n",
    "    'A': Node('A',None,[('B',6), ('C',9), ('E',1)], 0),\n",
    "    'B': Node('B',None,[('A',6), ('D',3), ('E',4)], 0),\n",
    "    'C': Node('C',None,[('A',9), ('F',2), ('G',3)], 0),\n",
    "    'D': Node('D',None,[('B',3), ('E',5), ('F',7)], 0),\n",
    "    'E': Node('E',None,[('A',1), ('B',4), ('D',5), ('F',6)], 0),\n",
    "    'F': Node('F',None,[('C',2), ('E',6), ('D',7),], 0),\n",
    "    'G': Node('G',None,[('C',3)], 0),\n",
    "}\n",
    "\n",
    "def findMin(frontier):\n",
    "    minV = math.inf\n",
    "    node=''\n",
    "    for i in frontier:\n",
    "        if minV>frontier[i][1]:\n",
    "            minV=frontier[i][1]\n",
    "            node = i\n",
    "    return node\n",
    "\n",
    "def actionSequence(graph, initialState, goalState):\n",
    "    solution=[goalState]\n",
    "    currentParent= graph[goalState].parent\n",
    "    while currentParent!=None:\n",
    "        solution.append(currentParent)\n",
    "        currentParent= graph[currentParent].parent\n",
    "    solution.reverse()\n",
    "    return solution\n",
    "\n",
    "def UCS(graph, initialState, goalState):\n",
    "    frontier = dict()\n",
    "    frontier[initialState]=(None,0)\n",
    "    explored=[]\n",
    "\n",
    "    while len(frontier)!=0:\n",
    "        currentNode = findMin(frontier)\n",
    "        del frontier[currentNode]\n",
    "        if graph[currentNode].state ==goalState:\n",
    "            return actionSequence(graph, initialState, goalState)\n",
    "        explored.append(currentNode)\n",
    "        for child in graph[currentNode].neighbours:\n",
    "            currentCost = child[1]+graph[currentNode].cost\n",
    "            if child[0] not in frontier and child[0] not in explored:\n",
    "                graph[child[0]].parent = currentNode\n",
    "                graph[child[0]].cost = currentCost\n",
    "                frontier[child[0]]= (graph[child[0]].parent, graph[child[0]].cost)\n",
    "            elif child[0] in frontier:\n",
    "                if frontier[child[0]][1] < currentCost:\n",
    "                    graph[child[0]].parent = frontier[child[0]][0]\n",
    "                    graph[child[0]].cost = frontier[child[0]][1]\n",
    "                else:\n",
    "                    frontier[child[0]]=(currentNode, currentCost)\n",
    "                    graph[child[0]].parent = frontier[child[0]][0]\n",
    "                    graph[child[0]].cost = frontier[child[0]][1]\n",
    "\n",
    "UCS(graph,'C','B')\n",
    "\n"
   ]
  },
  {
   "cell_type": "code",
   "execution_count": 7,
   "metadata": {},
   "outputs": [
    {
     "data": {
      "text/plain": [
       "['Arad', 'Sibiu', 'Rimnicu Vilcea', 'Pitesti', 'Bucharest']"
      ]
     },
     "execution_count": 7,
     "metadata": {},
     "output_type": "execute_result"
    }
   ],
   "source": [
    "# Task 1\n",
    "\n",
    "map = {\n",
    "    'Oradea': Node('Oradea', None, [('Zerind', 71), ('Sibiu', 151)], 0),\n",
    "    'Zerind': Node('Zerind', None, [('Oradea', 71), ('Arad', 75)], 0),\n",
    "    'Arad': Node('Arad', None, [('Zerind', 75), ('Timisoara', 118), ('Sibiu', 140)], 0),\n",
    "    'Timisoara': Node('Timisoara', None, [('Arad', 118), ('Lugoj', 111)], 0),\n",
    "    'Lugoj': Node('Lugoj', None, [('Timisoara', 111), ('Mehadia', 70)], 0),\n",
    "    'Mehadia': Node('Mehadia', None, [('Lugoj', 70), ('Drobeta', 75)], 0),\n",
    "    'Drobeta': Node('Drobeta', None, [('Mehadia', 75), ('Craiova', 120)], 0),\n",
    "    'Craiova': Node('Craiova', None, [('Drobeta', 120), ('Rimnicu Vilcea', 146), ('Pitesti', 138)], 0),\n",
    "    'Rimnicu Vilcea': Node('Rimnicu Vilcea', None, [('Craiova', 146), ('Pitesti', 97), ('Sibiu', 80)], 0),\n",
    "    'Sibiu': Node('Sibiu', None, [('Oradea', 151), ('Arad', 140), ('Rimnicu Vilcea', 80), ('Fagaras', 99)], 0),\n",
    "    'Fagaras': Node('Fagaras', None, [('Sibiu', 99), ('Bucharest', 211)], 0),\n",
    "    'Pitesti': Node('Pitesti', None, [('Rimnicu Vilcea', 97), ('Craiova', 138), ('Bucharest', 101)], 0),\n",
    "    'Bucharest': Node('Bucharest', None, [('Fagaras', 211), ('Pitesti', 101), ('Giurgiu', 90), ('Urziceni', 85)], 0),\n",
    "    'Giurgiu': Node('Giurgiu', None, [('Bucharest', 90)], 0),\n",
    "    'Urziceni': Node('Urziceni', None, [('Bucharest', 85), ('Hirsova', 98), ('Vaslui', 142)], 0),\n",
    "    'Hirsova': Node('Hirsova', None, [('Urziceni', 98), ('Eforie', 86)], 0),\n",
    "    'Eforie': Node('Eforie', None, [('Hirsova', 86)], 0),\n",
    "    'Vaslui': Node('Vaslui', None, [('Urziceni', 142), ('Iasi', 92)], 0),\n",
    "    'Iasi': Node('Iasi', None, [('Vaslui', 92), ('Neamt', 87)], 0),\n",
    "    'Neamt': Node('Neamt', None, [('Iasi', 87)], 0)\n",
    "}\n",
    "\n",
    "UCS(map, 'Arad', 'Bucharest')"
   ]
  }
 ],
 "metadata": {
  "kernelspec": {
   "display_name": "Python 3",
   "language": "python",
   "name": "python3"
  },
  "language_info": {
   "codemirror_mode": {
    "name": "ipython",
    "version": 3
   },
   "file_extension": ".py",
   "mimetype": "text/x-python",
   "name": "python",
   "nbconvert_exporter": "python",
   "pygments_lexer": "ipython3",
   "version": "3.11.9"
  }
 },
 "nbformat": 4,
 "nbformat_minor": 2
}
