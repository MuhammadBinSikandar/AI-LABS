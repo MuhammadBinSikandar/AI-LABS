{
 "cells": [
  {
   "cell_type": "code",
   "execution_count": 4,
   "metadata": {},
   "outputs": [
    {
     "ename": "ValueError",
     "evalue": "too many values to unpack (expected 1)",
     "output_type": "error",
     "traceback": [
      "\u001b[1;31m---------------------------------------------------------------------------\u001b[0m",
      "\u001b[1;31mValueError\u001b[0m                                Traceback (most recent call last)",
      "Cell \u001b[1;32mIn[4], line 62\u001b[0m\n\u001b[0;32m     59\u001b[0m                     graph[child[\u001b[38;5;241m0\u001b[39m]]\u001b[38;5;241m.\u001b[39mparent \u001b[38;5;241m=\u001b[39m frontier[child[\u001b[38;5;241m0\u001b[39m]][\u001b[38;5;241m0\u001b[39m]\n\u001b[0;32m     60\u001b[0m                     graph[child[\u001b[38;5;241m0\u001b[39m]]\u001b[38;5;241m.\u001b[39mcost \u001b[38;5;241m=\u001b[39m frontier[child[\u001b[38;5;241m0\u001b[39m]][\u001b[38;5;241m1\u001b[39m]\n\u001b[1;32m---> 62\u001b[0m \u001b[43mUCS\u001b[49m\u001b[43m(\u001b[49m\u001b[43mgraph\u001b[49m\u001b[43m,\u001b[49m\u001b[38;5;124;43m'\u001b[39;49m\u001b[38;5;124;43mC\u001b[39;49m\u001b[38;5;124;43m'\u001b[39;49m\u001b[43m,\u001b[49m\u001b[38;5;124;43m'\u001b[39;49m\u001b[38;5;124;43mB\u001b[39;49m\u001b[38;5;124;43m'\u001b[39;49m\u001b[43m)\u001b[49m\n",
      "Cell \u001b[1;32mIn[4], line 38\u001b[0m, in \u001b[0;36mUCS\u001b[1;34m(graph, initialState, goalState)\u001b[0m\n\u001b[0;32m     36\u001b[0m \u001b[38;5;28;01mdef\u001b[39;00m \u001b[38;5;21mUCS\u001b[39m(graph, initialState, goalState):\n\u001b[0;32m     37\u001b[0m     frontier \u001b[38;5;241m=\u001b[39m \u001b[38;5;28mdict\u001b[39m()\n\u001b[1;32m---> 38\u001b[0m     frontier \u001b[38;5;241m=\u001b[39m[initialState]\u001b[38;5;241m=\u001b[39m(\u001b[38;5;28;01mNone\u001b[39;00m,\u001b[38;5;241m0\u001b[39m)\n\u001b[0;32m     39\u001b[0m     explored\u001b[38;5;241m=\u001b[39m[]\n\u001b[0;32m     41\u001b[0m     \u001b[38;5;28;01mwhile\u001b[39;00m \u001b[38;5;28mlen\u001b[39m(frontier)\u001b[38;5;241m!=\u001b[39m\u001b[38;5;241m0\u001b[39m:\n",
      "\u001b[1;31mValueError\u001b[0m: too many values to unpack (expected 1)"
     ]
    }
   ],
   "source": [
    "import math\n",
    "class Node: \n",
    "    def __init__(self, state, parent, neighbours, cost):\n",
    "        self.state = state\n",
    "        self.parent = parent\n",
    "        self.neighbours = neighbours\n",
    "        self.cost = cost\n",
    "graph = {\n",
    "    'A': Node('A',None,[('B',6), ('C',9), ('E',1)], 0),\n",
    "    'B': Node('B',None,[('A',6), ('D',3), ('E',4)], 0),\n",
    "    'C': Node('C',None,[('A',9), ('F',2), ('G',3)], 0),\n",
    "    'D': Node('D',None,[('B',3), ('F',5), ('H',7)], 0),\n",
    "    'E': Node('E',None,[('A',1), ('B',4), ('D',5), ('F',6)], 0),\n",
    "    'F': Node('F',None,[('C',2), ('E',6), ('D',7),], 0),\n",
    "    'G': Node('G',None,[('C',3)], 0),\n",
    "}\n",
    "\n",
    "def findMin(frontier):\n",
    "    minV = math.inf\n",
    "    node=''\n",
    "    for i in frontier:\n",
    "        if minV>frontier[i][1]:\n",
    "            minV=frontier[i][1]\n",
    "            node = i\n",
    "    return node\n",
    "\n",
    "def actionSequence(graph, initialState, goalState):\n",
    "    solution=[goalState]\n",
    "    currentParent= graph[goalState].parent\n",
    "    while currentParent!=None:\n",
    "        solution.append(currentParent)\n",
    "        currentParent= graph[currentParent].parent\n",
    "    solution.reverse()\n",
    "    return solution\n",
    "\n",
    "def UCS(graph, initialState, goalState):\n",
    "    frontier = dict()\n",
    "    frontier[initialState]=(None,0)\n",
    "    explored=[]\n",
    "\n",
    "    while len(frontier)!=0:\n",
    "        currentNode = findMin(frontier)\n",
    "        del frontier[currentNode]\n",
    "        if graph[currentNode].state ==goalState:\n",
    "            return actionSequence(graph, initialState, goalState)\n",
    "        explored.append(currentNode)\n",
    "        for child in graph[currentNode].neighbours:\n",
    "            currentCost = child[1]+graph[currentNode].cost\n",
    "            if child[0] not in frontier and child[0] not in explored:\n",
    "                graph[child[0]].parent = currentNode\n",
    "                graph[child[0]].cost = currentCost\n",
    "                frontier[child[0]]= (graph[child[0]].parent, graph[child[0]].cost)\n",
    "            elif child[0] in frontier:\n",
    "                if frontier[child[0]][1] < currentCost:\n",
    "                    graph[child[0]].parent = frontier[child[0]][0]\n",
    "                    graph[child[0]].cost = frontier[child[0]][1]\n",
    "                else:\n",
    "                    frontier[child[0]]=(currentNode, currentCost)\n",
    "                    graph[child[0]].parent = frontier[child[0]][0]\n",
    "                    graph[child[0]].cost = frontier[child[0]][1]\n",
    "\n",
    "UCS(graph,'C','B')\n",
    "\n"
   ]
  }
 ],
 "metadata": {
  "kernelspec": {
   "display_name": "Python 3",
   "language": "python",
   "name": "python3"
  },
  "language_info": {
   "codemirror_mode": {
    "name": "ipython",
    "version": 3
   },
   "file_extension": ".py",
   "mimetype": "text/x-python",
   "name": "python",
   "nbconvert_exporter": "python",
   "pygments_lexer": "ipython3",
   "version": "3.11.9"
  }
 },
 "nbformat": 4,
 "nbformat_minor": 2
}
