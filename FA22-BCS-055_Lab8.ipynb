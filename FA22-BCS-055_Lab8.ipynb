{
 "cells": [
  {
   "cell_type": "code",
   "execution_count": 3,
   "metadata": {},
   "outputs": [
    {
     "name": "stdout",
     "output_type": "stream",
     "text": [
      "['F', 'H', 'I', 'J']\n"
     ]
    }
   ],
   "source": [
    "import math\n",
    "\n",
    "class Node:\n",
    "    def __init__(self, state, parent, actions, heuristic, totalCost): \n",
    "        self.state = state\n",
    "        self.parent = parent\n",
    "        self.actions = actions\n",
    "        self.heuristic = heuristic\n",
    "        self.totalCost = totalCost\n",
    "\n",
    "graph = {'A': Node('A', None, [('F',1)], (0,0),0),\n",
    "         'B': Node('B', None, [('C',1), ('G',1)], (2,0), 0),\n",
    "         'C': Node('C', None, [('B',1), ('D',1)], (3,0), 0),\n",
    "         'D': Node('D', None, [('C', 1), ('E', 1)], (4,0), 0),\n",
    "         'E': Node('E', None, [('D',1)], (5,0), 0),\n",
    "         'F': Node('F', None, [('A', 1), ('H',1)], (0,1), 0),\n",
    "         'G': Node('G', None, [('B', 1), ('J', 1)], (2,1), 0),\n",
    "         'H': Node('H', None, [('F', 1), ('I', 1), ('M', 1)], (0,2), 0),\n",
    "         'I': Node('I', None, [('H', 1), ('J', 1), ('N', 1)], (1,2),0),\n",
    "         'J': Node('J', None, [('G',1), ('I', 1)], (2,2), 0),\n",
    "         'K': Node('K', None, [('L', 1), ('P',1)], (4,2), 0),\n",
    "         'L': Node('L', None, [('K', 1), ('Q',1)], (5,2),0),\n",
    "         'M': Node('M', None, [('H', 1), ('N', 1), ('R',1)], (0,3), 0),\n",
    "         'N': Node('N', None, [('I', 1), ('M', 1), ('S',1 )], (1,3), 0),\n",
    "         'O': Node('O', None, [('P',1), ('U',1)], (3,3), 0),\n",
    "         'P': Node('P', None, [('K',1), ('O',1), ('Q',1)], (4,3), 0),  \n",
    "         'Q': Node('Q', None, [('L', 1), ('P',1), ('V', 1)], (5,3), 0),\n",
    "         'R': Node('R', None, [('M', 1), ('S', 1)], (0,4),0),\n",
    "         'S': Node('S', None, [('N', 1), ('R', 1), ('T',1)], (1,4),0), \n",
    "         'T': Node('T', None, [('S',1), ('U',1), ('W', 1)], (2,4), 0),  \n",
    "         'U': Node('U', None, [('O',1), ('T',1)], (3,4),0),  \n",
    "         'V': Node('V', None, [('Q',1), ('Y', 1)], (5,4),0),\n",
    "         'W': Node('W', None, [('T', 1)], (2,5), 0),\n",
    "         'X': Node('X', None, [('Y', 1)], (4,5), 0),\n",
    "         'Y': Node('Y', None, [('X',1), ('Y', 1)], (5,5), 0)\n",
    "         }\n",
    "\n",
    "def hillClimbing(initialState, goalState, graph):\n",
    "    parentNode=initialState\n",
    "    parentCost = math.sqrt((graph [goalState]. heuristic[0] - graph[initialState].heuristic [0])**2+\n",
    "                            (graph [goalState]. heuristic [1] - graph[initialState].heuristic[1])**2)\n",
    "    explored= []\n",
    "    solution=[]\n",
    "    minChildCost = parentCost - 1\n",
    "    while parentNode!=goalState:\n",
    "        bestNode=parentNode\n",
    "        minChildCost=parentCost\n",
    "        explored.append (parentNode)\n",
    "        for child in graph [parentNode].actions:\n",
    "            if child[0] not in explored:\n",
    "                childCost = math.sqrt((graph [goalState].heuristic [0] - graph [child[0]].heuristic [0])*2+(graph [goalState].heuristic [1] - graph [child[0]]. heuristic [1])*2)\n",
    "                if childCost<minChildCost:\n",
    "                    bestNode=child[0]\n",
    "                    minChildCost=childCost\n",
    "        if bestNode==parentNode:\n",
    "            break\n",
    "        else:\n",
    "            parentNode=bestNode \n",
    "            parentCost=minChildCost \n",
    "            solution.append (parentNode)\n",
    "    return solution\n",
    "\n",
    "solution = hillClimbing('A', 'Y', graph)\n",
    "print (solution)"
   ]
  },
  {
   "cell_type": "code",
   "execution_count": 4,
   "metadata": {},
   "outputs": [
    {
     "name": "stdout",
     "output_type": "stream",
     "text": [
      "['B', 'H', 'Q', 'Z']\n"
     ]
    }
   ],
   "source": []
  }
 ],
 "metadata": {
  "kernelspec": {
   "display_name": "Python 3",
   "language": "python",
   "name": "python3"
  },
  "language_info": {
   "codemirror_mode": {
    "name": "ipython",
    "version": 3
   },
   "file_extension": ".py",
   "mimetype": "text/x-python",
   "name": "python",
   "nbconvert_exporter": "python",
   "pygments_lexer": "ipython3",
   "version": "3.11.9"
  }
 },
 "nbformat": 4,
 "nbformat_minor": 2
}
