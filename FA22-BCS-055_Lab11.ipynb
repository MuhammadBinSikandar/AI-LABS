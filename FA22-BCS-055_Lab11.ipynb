{
 "cells": [
  {
   "cell_type": "code",
   "execution_count": null,
   "metadata": {},
   "outputs": [
    {
     "name": "stdout",
     "output_type": "stream",
     "text": [
      "Solution for the 4-Queens problem:\n",
      "Q . . . . . . . . . . . . . . . \n",
      ". . Q . . . . . . . . . . . . . \n",
      ". . . . Q . . . . . . . . . . . \n",
      ". Q . . . . . . . . . . . . . . \n",
      ". . . . . . . . . . . . Q . . . \n",
      ". . . . . . . . Q . . . . . . . \n",
      ". . . . . . . . . . . . . Q . . \n",
      ". . . . . . . . . . . Q . . . . \n",
      ". . . . . . . . . . . . . . Q . \n",
      ". . . . . Q . . . . . . . . . . \n",
      ". . . . . . . . . . . . . . . Q \n",
      ". . . . . . Q . . . . . . . . . \n",
      ". . . Q . . . . . . . . . . . . \n",
      ". . . . . . . . . . Q . . . . . \n",
      ". . . . . . . Q . . . . . . . . \n",
      ". . . . . . . . . Q . . . . . . \n",
      "\n"
     ]
    }
   ],
   "source": [
    "def is_safe(board, row, col, n):\n",
    "    for i in range(row):\n",
    "        if board[i][col] == 1:\n",
    "            return False\n",
    "\n",
    "    for i, j in zip(range(row, -1, -1), range(col, -1, -1)):\n",
    "        if board[i][j] == 1:\n",
    "            return False\n",
    "\n",
    "    for i, j in zip(range(row, -1, -1), range(col, n)):\n",
    "        if board[i][j] == 1:\n",
    "            return False\n",
    "\n",
    "    return True\n",
    "\n",
    "def solve_n_queens(board, row, n):\n",
    "    if row >= n:\n",
    "        return True\n",
    "\n",
    "    for col in range(n):\n",
    "        if is_safe(board, row, col, n):\n",
    "            board[row][col] = 1\n",
    "\n",
    "            if solve_n_queens(board, row + 1, n):\n",
    "                return True\n",
    "\n",
    "            board[row][col] = 0\n",
    "\n",
    "    return False\n",
    "\n",
    "def print_solution(board, n):\n",
    "    for row in range(n):\n",
    "        for col in range(n):\n",
    "            if board[row][col] == 1:\n",
    "                print(\"Q\", end=\" \")\n",
    "            else:\n",
    "                print(\".\", end=\" \")\n",
    "        print()\n",
    "    print()\n",
    "\n",
    "def four_queens():\n",
    "    n = 4\n",
    "    board = [[0 for _ in range(n)] for _ in range(n)]\n",
    "\n",
    "    if solve_n_queens(board, 0, n):\n",
    "        print(\"Solution for the 4-Queens problem:\")\n",
    "        print_solution(board, n)\n",
    "    else:\n",
    "        print(\"No solution exists.\")\n",
    "\n",
    "\n",
    "four_queens()\n"
   ]
  }
 ],
 "metadata": {
  "kernelspec": {
   "display_name": "Python 3",
   "language": "python",
   "name": "python3"
  },
  "language_info": {
   "codemirror_mode": {
    "name": "ipython",
    "version": 3
   },
   "file_extension": ".py",
   "mimetype": "text/x-python",
   "name": "python",
   "nbconvert_exporter": "python",
   "pygments_lexer": "ipython3",
   "version": "3.13.1"
  }
 },
 "nbformat": 4,
 "nbformat_minor": 2
}
