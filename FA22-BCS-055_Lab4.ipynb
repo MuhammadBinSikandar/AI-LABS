{
 "cells": [
  {
   "cell_type": "code",
   "execution_count": 1,
   "metadata": {},
   "outputs": [],
   "source": [
    "class Node:\n",
    "    def __init__(self, state, parent, neighbours, cost):\n",
    "        self.state = state\n",
    "        self.parent = parent\n",
    "        self.neighbours = neighbours\n",
    "        self.cost = cost"
   ]
  },
  {
   "cell_type": "code",
   "execution_count": 15,
   "metadata": {},
   "outputs": [
    {
     "name": "stdout",
     "output_type": "stream",
     "text": [
      "['A', 'E', 'D']\n"
     ]
    }
   ],
   "source": [
    "#Activity 1\n",
    "graph ={\n",
    "    'A': Node('A', None, ('B', 'E', 'C'), None),\n",
    "    'B': Node('B', None, ('A', 'E', 'D'), None),\n",
    "    'C': Node('C', None, ('A', 'F', 'G'), None),\n",
    "    'D': Node('D', None, ('B', 'E'), None),\n",
    "    'E': Node('E', None, ('A', 'B', 'D'), None),\n",
    "    'F': Node('F', None, ('C'), None),\n",
    "    'G': Node('G', None, ('C'), None)\n",
    "}\n",
    "\n",
    "def actionSequence(graph, start, goal):\n",
    "    path = [goal]\n",
    "    currentParent = graph[goal].parent\n",
    "    while currentParent != None:\n",
    "        path.append(currentParent)\n",
    "        currentParent = graph[currentParent].parent\n",
    "    path.reverse()\n",
    "    return path\n",
    "\n",
    "def dfs(graph, start, goal):\n",
    "    stack = [start]\n",
    "    explored = []\n",
    "    while len(stack)!=0:\n",
    "        currentNode = stack.pop() \n",
    "        explored.append(currentNode)\n",
    "        currentChild = 0\n",
    "        for child in graph[currentNode].neighbours:\n",
    "            if child not in stack and child not in explored:\n",
    "                graph[child].parent = currentNode\n",
    "                if graph[child].state == goal:\n",
    "                    return actionSequence(graph, start, goal)\n",
    "                currentChild += 1\n",
    "                stack.append(child)\n",
    "        if currentChild == 0:\n",
    "            del explored[-1]\n",
    "\n",
    "print(dfs(graph, 'A', 'D'))\n",
    "                    "
   ]
  },
  {
   "cell_type": "code",
   "execution_count": 16,
   "metadata": {},
   "outputs": [
    {
     "name": "stdout",
     "output_type": "stream",
     "text": [
      "['Arad', 'Sibiu', 'Fagaras', 'Bucharest']\n"
     ]
    }
   ],
   "source": [
    "#Graded Task 1\n",
    "graph = {\n",
    "    'Oradea': Node('Oradea', None, ['Zerind', 'Sibiu'], None),\n",
    "    'Zerind': Node('Zerind', None, ['Oradea', 'Arad'], None),\n",
    "    'Arad': Node('Arad', None, ['Zerind', 'Timisoara', 'Sibiu'], None),\n",
    "    'Timisoara': Node('Timisoara', None, ['Arad', 'Lugoj'], None),\n",
    "    'Lugoj': Node('Lugoj', None, ['Timisoara', 'Mehadia'], None),\n",
    "    'Mehadia': Node('Mehadia', None, ['Lugoj', 'Drobeta'], None),\n",
    "    'Drobeta': Node('Drobeta', None, ['Mehadia', 'Craiova'], None),\n",
    "    'Craiova': Node('Craiova', None, ['Drobeta', 'Rimnicu Vilcea', 'Pitesti'], None),\n",
    "    'Rimnicu Vilcea': Node('Rimnicu Vilcea', None, ['Craiova', 'Pitesti', 'Sibiu'], None),\n",
    "    'Sibiu': Node('Sibiu', None, ['Oradea', 'Arad', 'Rimnicu Vilcea', 'Fagaras'], None),\n",
    "    'Fagaras': Node('Fagaras', None, ['Sibiu', 'Bucharest'], None),\n",
    "    'Pitesti': Node('Pitesti', None, ['Rimnicu Vilcea', 'Craiova', 'Bucharest'], None),\n",
    "    'Bucharest': Node('Bucharest', None, ['Fagaras', 'Pitesti', 'Giurgiu', 'Urziceni'], None),\n",
    "    'Giurgiu': Node('Giurgiu', None, ['Bucharest'], None),\n",
    "    'Urziceni': Node('Urziceni', None, ['Bucharest', 'Hirsova', 'Vaslui'], None),\n",
    "    'Hirsova': Node('Hirsova', None, ['Urziceni', 'Eforie'], None),\n",
    "    'Eforie': Node('Eforie', None, ['Hirsova'], None),\n",
    "    'Vaslui': Node('Vaslui', None, ['Urziceni', 'Iasi'], None),\n",
    "    'Iasi': Node('Iasi', None, ['Vaslui', 'Neamt'], None),\n",
    "    'Neamt': Node('Neamt', None, ['Iasi'], None)\n",
    "}\n",
    "print(dfs(graph, 'Arad', 'Bucharest'))"
   ]
  },
  {
   "cell_type": "code",
   "execution_count": null,
   "metadata": {},
   "outputs": [],
   "source": [
    "class TrieNode:\n",
    "    def __init__(self):\n",
    "        self.children = {}\n",
    "        self.is_end_of_word = False\n",
    "\n",
    "class Trie:\n",
    "    def __init__(self):\n",
    "        self.root = TrieNode()\n",
    "\n",
    "    def insert(self, word):\n",
    "        node = self.root\n",
    "        for character in word:\n",
    "            if character not in node.children:\n",
    "                node.children[character] = TrieNode()\n",
    "            node = node.children[character]\n",
    "        node.is_end_of_word = True\n",
    "\n",
    "def dfs(board, trie, node, x, y, path, visited, result):\n",
    "    #Base Case\n",
    "    if node.is_end_of_word:\n",
    "        result.add(path)\n",
    "\n",
    "    #Remaining Condition\n",
    "    #(x , y) --> x moves up(negative - ) and down(positive + ) , y moves left(negative -) and right (positive +)\n",
    "    directions = [(-1,-1),(-1,0),(-1,1),(0,-1),(0,1),(1,-1),(1,0),(1,1)]\n",
    "    #directions= [(up-left) (up) (up right) (left) (right) (down left) (down) (down right)]\n",
    "\n",
    "    for dx, dy in directions:\n",
    "        new_x, new_y = x + dx, y+ dy\n",
    "        if 0 <= new_x < len(board) and 0<= new_y < len(board[0]) and (new_x, new_y) not in visited:\n",
    "            next_character = board[new_x][new_y]\n",
    "            if next_character in node.children:\n",
    "                visited.add((new_x,new_y))\n",
    "                dfs(board, trie, node.children[next_character], new_x, new_y, path+next_character, visited, result)\n",
    "                visited.remove((new_x,new_y))\n",
    "\n",
    "#A helper function which first adds all the dictionary words to the Trie and initiates DFS\n",
    "def Words_Combinations(board, wordSet):\n",
    "    trie = Trie()\n",
    "    for word in wordSet:\n",
    "        trie.insert(word)\n",
    "    result = set()\n",
    "    for i in range (len(board)):\n",
    "        for j in range (len(board[0])):\n",
    "            character = board[i][j]\n",
    "            if character in trie.root.children:\n",
    "                dfs(board, trie, trie.root.children[character], i, j, character, {(i,j)}, result)\n",
    "    return result\n",
    "\n",
    "board = [\n",
    "    ['M', 'S', 'E', 'F'],\n",
    "    ['R', 'A', 'T', 'D'],\n",
    "    ['L', 'O', 'N', 'E'],\n",
    "    ['K', 'A', 'F', 'B']\n",
    "]\n",
    "\n",
    "wordSet = ['START', 'NOTE', 'SAND', 'STONED']\n",
    "\n",
    "foundWords = Words_Combinations(board, wordSet)\n",
    "\n",
    "print(f\"Following Words are Found : {foundWords}\")\n"
   ]
  }
 ],
 "metadata": {
  "kernelspec": {
   "display_name": "Python 3",
   "language": "python",
   "name": "python3"
  },
  "language_info": {
   "codemirror_mode": {
    "name": "ipython",
    "version": 3
   },
   "file_extension": ".py",
   "mimetype": "text/x-python",
   "name": "python",
   "nbconvert_exporter": "python",
   "pygments_lexer": "ipython3",
   "version": "3.11.9"
  }
 },
 "nbformat": 4,
 "nbformat_minor": 2
}
