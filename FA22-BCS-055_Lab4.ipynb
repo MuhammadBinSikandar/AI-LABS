{
 "cells": [
  {
   "cell_type": "code",
   "execution_count": 1,
   "metadata": {},
   "outputs": [],
   "source": [
    "class Node:\n",
    "    def __init__(self, state, parent, neighbours, cost):\n",
    "        self.state = state\n",
    "        self.parent = parent\n",
    "        self.neighbours = neighbours\n",
    "        self.cost = cost"
   ]
  },
  {
   "cell_type": "code",
   "execution_count": 15,
   "metadata": {},
   "outputs": [
    {
     "name": "stdout",
     "output_type": "stream",
     "text": [
      "['A', 'E', 'D']\n"
     ]
    }
   ],
   "source": [
    "#Activity 1\n",
    "graph ={\n",
    "    'A': Node('A', None, ('B', 'E', 'C'), None),\n",
    "    'B': Node('B', None, ('A', 'E', 'D'), None),\n",
    "    'C': Node('C', None, ('A', 'F', 'G'), None),\n",
    "    'D': Node('D', None, ('B', 'E'), None),\n",
    "    'E': Node('E', None, ('A', 'B', 'D'), None),\n",
    "    'F': Node('F', None, ('C'), None),\n",
    "    'G': Node('G', None, ('C'), None)\n",
    "}\n",
    "\n",
    "def actionSequence(graph, start, goal):\n",
    "    path = [goal]\n",
    "    currentParent = graph[goal].parent\n",
    "    while currentParent != None:\n",
    "        path.append(currentParent)\n",
    "        currentParent = graph[currentParent].parent\n",
    "    path.reverse()\n",
    "    return path\n",
    "\n",
    "def dfs(graph, start, goal):\n",
    "    stack = [start]\n",
    "    explored = []\n",
    "    while len(stack)!=0:\n",
    "        currentNode = stack.pop()\n",
    "        # print(currentNode)\n",
    "        explored.append(currentNode)\n",
    "        currentChild = 0\n",
    "        for child in graph[currentNode].neighbours:\n",
    "            if child not in stack and child not in explored:\n",
    "                graph[child].parent = currentNode\n",
    "                if graph[child].state == goal:\n",
    "                    # print(explored)\n",
    "                    return actionSequence(graph, start, goal)\n",
    "                currentChild += 1\n",
    "                stack.append(child)\n",
    "        if currentChild == 0:\n",
    "            del explored[-1]\n",
    "\n",
    "print(dfs(graph, 'A', 'D'))\n",
    "                    "
   ]
  },
  {
   "cell_type": "code",
   "execution_count": 16,
   "metadata": {},
   "outputs": [
    {
     "name": "stdout",
     "output_type": "stream",
     "text": [
      "['Arad', 'Sibiu', 'Fagaras', 'Bucharest']\n"
     ]
    }
   ],
   "source": [
    "#Graded Task 1\n",
    "graph = {\n",
    "    'Oradea': Node('Oradea', None, ['Zerind', 'Sibiu'], None),\n",
    "    'Zerind': Node('Zerind', None, ['Oradea', 'Arad'], None),\n",
    "    'Arad': Node('Arad', None, ['Zerind', 'Timisoara', 'Sibiu'], None),\n",
    "    'Timisoara': Node('Timisoara', None, ['Arad', 'Lugoj'], None),\n",
    "    'Lugoj': Node('Lugoj', None, ['Timisoara', 'Mehadia'], None),\n",
    "    'Mehadia': Node('Mehadia', None, ['Lugoj', 'Drobeta'], None),\n",
    "    'Drobeta': Node('Drobeta', None, ['Mehadia', 'Craiova'], None),\n",
    "    'Craiova': Node('Craiova', None, ['Drobeta', 'Rimnicu Vilcea', 'Pitesti'], None),\n",
    "    'Rimnicu Vilcea': Node('Rimnicu Vilcea', None, ['Craiova', 'Pitesti', 'Sibiu'], None),\n",
    "    'Sibiu': Node('Sibiu', None, ['Oradea', 'Arad', 'Rimnicu Vilcea', 'Fagaras'], None),\n",
    "    'Fagaras': Node('Fagaras', None, ['Sibiu', 'Bucharest'], None),\n",
    "    'Pitesti': Node('Pitesti', None, ['Rimnicu Vilcea', 'Craiova', 'Bucharest'], None),\n",
    "    'Bucharest': Node('Bucharest', None, ['Fagaras', 'Pitesti', 'Giurgiu', 'Urziceni'], None),\n",
    "    'Giurgiu': Node('Giurgiu', None, ['Bucharest'], None),\n",
    "    'Urziceni': Node('Urziceni', None, ['Bucharest', 'Hirsova', 'Vaslui'], None),\n",
    "    'Hirsova': Node('Hirsova', None, ['Urziceni', 'Eforie'], None),\n",
    "    'Eforie': Node('Eforie', None, ['Hirsova'], None),\n",
    "    'Vaslui': Node('Vaslui', None, ['Urziceni', 'Iasi'], None),\n",
    "    'Iasi': Node('Iasi', None, ['Vaslui', 'Neamt'], None),\n",
    "    'Neamt': Node('Neamt', None, ['Iasi'], None)\n",
    "}\n",
    "print(dfs(graph, 'Arad', 'Bucharest'))"
   ]
  }
 ],
 "metadata": {
  "kernelspec": {
   "display_name": "Python 3",
   "language": "python",
   "name": "python3"
  },
  "language_info": {
   "codemirror_mode": {
    "name": "ipython",
    "version": 3
   },
   "file_extension": ".py",
   "mimetype": "text/x-python",
   "name": "python",
   "nbconvert_exporter": "python",
   "pygments_lexer": "ipython3",
   "version": "3.11.9"
  }
 },
 "nbformat": 4,
 "nbformat_minor": 2
}
